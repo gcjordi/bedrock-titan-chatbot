{
 "cells": [
  {
   "cell_type": "code",
   "execution_count": null,
   "id": "3d12c94f",
   "metadata": {},
   "outputs": [],
   "source": [
    "# Make sure you ran `download-dependencies.sh` from the root of the repository first!\n",
    "%pip install --no-build-isolation --force-reinstall \\\n",
    "    ../dependencies/awscli-*-py3-none-any.whl \\\n",
    "    ../dependencies/boto3-*-py3-none-any.whl \\\n",
    "    ../dependencies/botocore-*-py3-none-any.whl"
   ]
  },
  {
   "cell_type": "code",
   "execution_count": null,
   "id": "7d8f2375",
   "metadata": {},
   "outputs": [],
   "source": [
    "%pip install --quiet langchain==0.0.304"
   ]
  },
  {
   "cell_type": "code",
   "execution_count": null,
   "id": "0f821784",
   "metadata": {},
   "outputs": [],
   "source": [
    "import boto3\n",
    "import json\n",
    "from langchain.memory import ConversationBufferMemory\n",
    "from langchain import PromptTemplate\n",
    "from langchain.llms.bedrock import Bedrock\n",
    "from langchain.chains import ConversationChain"
   ]
  },
  {
   "cell_type": "code",
   "execution_count": null,
   "id": "438113f7",
   "metadata": {},
   "outputs": [],
   "source": [
    "bedrock_runtime = boto3.client(\n",
    "    service_name='bedrock-runtime', \n",
    "    aws_access_key_id='<YOUR_ACCESS_KEY>',\n",
    "    aws_secret_access_key='<YOUR_SECRET_ACCESS_KEY>',\n",
    "    region_name='us-west-2'\n",
    ")"
   ]
  },
  {
   "cell_type": "code",
   "execution_count": null,
   "id": "7bdc8638",
   "metadata": {},
   "outputs": [],
   "source": [
    "parameters = {\n",
    "    \"maxTokenCount\":512,\n",
    "    \"stopSequences\":[],\n",
    "    \"temperature\":0,\n",
    "    \"topP\":0.9\n",
    "    }"
   ]
  },
  {
   "cell_type": "code",
   "execution_count": null,
   "id": "8f64f8cd",
   "metadata": {},
   "outputs": [],
   "source": [
    "from langchain.memory import ConversationBufferMemory\n",
    "from langchain import PromptTemplate\n",
    "from langchain.llms.bedrock import Bedrock\n",
    "from langchain.chains import ConversationChain\n"
   ]
  },
  {
   "cell_type": "code",
   "execution_count": null,
   "id": "d0e60a9b",
   "metadata": {},
   "outputs": [],
   "source": [
    "context = ConversationBufferMemory()\n",
    "context.chat_memory.add_user_message(\"You will act as a principal software engineer and answer software engineering questions.\")\n",
    "context.chat_memory.add_ai_message(\"I am a principal software engineer and will answer your software engineering questions.\")"
   ]
  },
  {
   "cell_type": "code",
   "execution_count": null,
   "id": "128c46e3",
   "metadata": {},
   "outputs": [],
   "source": [
    "titan_llm = Bedrock(model_id=\"amazon.titan-tg1-large\",client=bedrock_runtime)\n",
    "conversation = ConversationChain(\n",
    "     llm=titan_llm, verbose=True, memory=context\n",
    ")"
   ]
  },
  {
   "cell_type": "code",
   "execution_count": null,
   "id": "9edcc658",
   "metadata": {},
   "outputs": [],
   "source": [
    "conversation.predict(input=\"What is the best programming language?\")"
   ]
  },
  {
   "cell_type": "code",
   "execution_count": null,
   "id": "87208ec2",
   "metadata": {},
   "outputs": [],
   "source": [
    "conversation.verbose = False\n",
    "str(conversation.predict(input=\"What programming languages do you use?\"))"
   ]
  },
  {
   "cell_type": "code",
   "execution_count": null,
   "id": "d7b14122",
   "metadata": {},
   "outputs": [],
   "source": []
  }
 ],
 "metadata": {
  "kernelspec": {
   "display_name": "Python 3 (ipykernel)",
   "language": "python",
   "name": "python3"
  },
  "language_info": {
   "codemirror_mode": {
    "name": "ipython",
    "version": 3
   },
   "file_extension": ".py",
   "mimetype": "text/x-python",
   "name": "python",
   "nbconvert_exporter": "python",
   "pygments_lexer": "ipython3",
   "version": "3.9.7"
  }
 },
 "nbformat": 4,
 "nbformat_minor": 5
}
